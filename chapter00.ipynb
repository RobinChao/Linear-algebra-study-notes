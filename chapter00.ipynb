{
 "cells": [
  {
   "cell_type": "markdown",
   "metadata": {
    "slideshow": {
     "slide_type": "slide"
    }
   },
   "source": [
    "# 序1  矩阵\n",
    "\n",
    "\n",
    "## TL;DR\n",
    "\n",
    "机器学习如火如荼，要学习机器学习，数学基础少不了。**Linear Algebra (线性代数)** 和 **Statistics (统计学) ** 在机器学习中的地位非常重要并且缺一不可，这代表了机器学习中最主流的两大类方法的基础。\n",
    "\n",
    "1. 一种是**以研究函数和变换为重点的代数方法**，比如降维（Dimension reduction），特征提取（feature extraction），核化（Kernel）等；\n",
    "\n",
    "2. 一种是**以研究统计模型和样本分布为重点的统计方法**，比如图形模型（Graphical model）, 信息论模型（Information theoretical models）等。\n",
    "\n",
    "它们侧重点虽有不同，但是常常是共同使用的，对于线性代数方法，往往需要统计上的解释，而对于统计模型，其具体计算则需要线性代数的帮助。\n",
    "\n",
    "本系列内容将从线性代数讲起，没讲的开始会有一个**TL;DR的介绍性的案例**，引出具体的数学问题，并开始学习。\n",
    "\n",
    "本文将针对线性代数中的两个基础知识点**矩阵**和**向量**进行简单的介绍，并对其的基础用法进行学习。"
   ]
  },
  {
   "cell_type": "markdown",
   "metadata": {
    "slideshow": {
     "slide_type": "slide"
    }
   },
   "source": [
    "## 使用环境\n",
    "\n",
    "由于本文针对的对象是程序员，因此会使用一些代码来完成数学意义的展示，在开始前，需要准备一些软件环境，本文的软件环境有：\n",
    "\n",
    "* [Python](https://www.python.org/) - 编程实践所使用的语言；\n",
    "* [Numpy](https://pypi.python.org/pypi/numpy) - Python的数值计算库。\n",
    "\n",
    "> 以上软件的版本，可根据自己的喜好来安装，文中的代码部分基本上不会有什么大的变动。\n"
   ]
  },
  {
   "cell_type": "markdown",
   "metadata": {
    "slideshow": {
     "slide_type": "slide"
    }
   },
   "source": [
    "## 认识矩阵\n",
    "\n",
    "矩阵（Matrix）是一种人为约定的数据表达方法，在图像处理、人工智能等等领域，使用矩阵来表示和处理数据非常常见。例如如下的表达式，就是一个简单的矩阵：\n",
    "\n",
    "$\\mathbf{A}_{2 \\times 3} = \\begin{bmatrix}5&2&7\\\\1&3&4\\end{bmatrix}$\n",
    "\n",
    "该矩阵**A**中，**A**的下标 *2x3* 表示矩阵**A**是一个2行3列的矩阵。类似地，另一个例子：\n",
    "\n",
    "$\\mathbf{B}_{4 \\times 4} = \\begin{bmatrix}5&2&7&6\\\\1&3&4&2\\\\7&-1&9&0\\\\8&2&-2&3\\end{bmatrix}$\n",
    "\n",
    "矩阵**B**是一个4行3列的矩阵。\n",
    "\n",
    "我们再回到矩阵**A**，如果要表示第2行的第2个元素3，可以使用**A[2,2]**或者$a_{2,2}$。"
   ]
  },
  {
   "cell_type": "markdown",
   "metadata": {},
   "source": [
    "## Python 实现\n",
    "\n",
    "Python中的 Numpy 库提供了 ndarray 类以用来存储高维度数组以及普通数组的运算，另外还提供了 matrix 类用来支持矩阵运算，例如："
   ]
  },
  {
   "cell_type": "code",
   "execution_count": 1,
   "metadata": {
    "collapsed": false
   },
   "outputs": [
    {
     "data": {
      "text/plain": [
       "matrix([[5, 2, 7],\n",
       "        [1, 3, 4]])"
      ]
     },
     "execution_count": 1,
     "metadata": {},
     "output_type": "execute_result"
    }
   ],
   "source": [
    "import numpy as np\n",
    "a = np.matrix('5 2 7;1 3 4')\n",
    "a "
   ]
  },
  {
   "cell_type": "code",
   "execution_count": 2,
   "metadata": {
    "collapsed": false
   },
   "outputs": [
    {
     "data": {
      "text/plain": [
       "matrix([[ 5,  2,  7,  6],\n",
       "        [ 1,  3,  4,  2],\n",
       "        [ 8,  2, -2,  3]])"
      ]
     },
     "execution_count": 2,
     "metadata": {},
     "output_type": "execute_result"
    }
   ],
   "source": [
    "b = np.matrix('5 2 7 6;1 3 4 2;8 2 -2 3')\n",
    "b"
   ]
  },
  {
   "cell_type": "markdown",
   "metadata": {},
   "source": [
    "你也可以使用另一种方式构建，如下："
   ]
  },
  {
   "cell_type": "code",
   "execution_count": 3,
   "metadata": {
    "collapsed": false
   },
   "outputs": [
    {
     "data": {
      "text/plain": [
       "matrix([[5, 2, 7],\n",
       "        [1, 3, 4]])"
      ]
     },
     "execution_count": 3,
     "metadata": {},
     "output_type": "execute_result"
    }
   ],
   "source": [
    "import numpy as np\n",
    "a = np.matrix([[5, 2, 7], [1, 3, 4]])\n",
    "a"
   ]
  },
  {
   "cell_type": "code",
   "execution_count": 4,
   "metadata": {
    "collapsed": false
   },
   "outputs": [
    {
     "data": {
      "text/plain": [
       "matrix([[ 5,  2,  7,  6],\n",
       "        [ 1,  3,  4,  2],\n",
       "        [ 8,  2, -2,  3]])"
      ]
     },
     "execution_count": 4,
     "metadata": {},
     "output_type": "execute_result"
    }
   ],
   "source": [
    "b = np.matrix([[5, 2, 7, 6], [1, 3, 4, 2], [8, 2, -2, 3]])\n",
    "b"
   ]
  },
  {
   "cell_type": "markdown",
   "metadata": {},
   "source": [
    "以上两种书写形式完全等效。但是第一种更加的直观，不易犯错。因此推荐！\n",
    "\n",
    "要把一个matrix对象转换为ndarray对象，可以直接使用numpy中提供的 **getA()**方法，而把 ndarray 对象转成 matrix 对象可以用 **asmatrix()** 方法。如下："
   ]
  },
  {
   "cell_type": "code",
   "execution_count": 5,
   "metadata": {
    "collapsed": false
   },
   "outputs": [
    {
     "name": "stdout",
     "output_type": "stream",
     "text": [
      "<class 'numpy.matrixlib.defmatrix.matrix'>\n",
      "[[5 2 7]\n",
      " [1 3 4]]\n",
      "<class 'numpy.ndarray'>\n"
     ]
    }
   ],
   "source": [
    "print (type(a))\n",
    "b = a.getA()\n",
    "print (b)\n",
    "print (type(b))"
   ]
  },
  {
   "cell_type": "code",
   "execution_count": 6,
   "metadata": {
    "collapsed": false
   },
   "outputs": [
    {
     "data": {
      "text/plain": [
       "matrix([[5, 2, 7],\n",
       "        [1, 3, 4]])"
      ]
     },
     "execution_count": 6,
     "metadata": {},
     "output_type": "execute_result"
    }
   ],
   "source": [
    "c = np.asmatrix(b)\n",
    "c"
   ]
  },
  {
   "cell_type": "markdown",
   "metadata": {},
   "source": [
    "要取出矩阵中的某个值，可以使用类似数组的小标运算符。但是要注意的是，计算机是以 **0** 开始计数的。例如，要取出矩阵**A**中第二行第二列的数值，应该使用："
   ]
  },
  {
   "cell_type": "code",
   "execution_count": 7,
   "metadata": {
    "collapsed": false
   },
   "outputs": [
    {
     "name": "stdout",
     "output_type": "stream",
     "text": [
      "3\n"
     ]
    }
   ],
   "source": [
    "print (a[1,1])"
   ]
  },
  {
   "cell_type": "markdown",
   "metadata": {},
   "source": [
    "## 基本运算\n",
    "\n",
    "### 加法\n",
    "\n",
    "矩阵的加法定义非常符合人类的直觉。假设有矩阵$\\mathbf{A}_{3 \\times 3} = \\begin{bmatrix}1&0&1\\\\1&2&1\\\\2&1&1\\end{bmatrix}$，$\\mathbf{B}_{3 \\times 3} = \\begin{bmatrix}2&1&-1\\\\0&-1&2\\\\2&-1&0\\end{bmatrix}$，则加法运算如下：\n",
    "\n",
    "$\\mathbf{A} + \\mathbf{B} =\\begin{bmatrix}1&0&1\\\\1&2&1\\\\2&1&1\\end{bmatrix} + \\begin{bmatrix}2&1&-1\\\\0&-1&2\\\\2&-1&0\\end{bmatrix}\n",
    "= \\begin{bmatrix}{1 + 2}&{0 + 1}&{1 + (-1)}\\\\{1 + 0}&{2 + (-1)}&{1 + 2}\\\\{2 + 2}&{1 + (-1)}&{1 + 0}\\end{bmatrix} = \\begin{bmatrix}3&1&0\\\\1&1&3\\\\4&0&1\\end{bmatrix}$\n",
    "\n",
    "在加法运算中，要主要两个矩阵的行数和列数必须相同，否则加法无定义。\n",
    "\n",
    "使用Python代码实现加法如下示例："
   ]
  },
  {
   "cell_type": "code",
   "execution_count": 8,
   "metadata": {
    "collapsed": false
   },
   "outputs": [
    {
     "data": {
      "text/plain": [
       "matrix([[3, 1, 0],\n",
       "        [1, 1, 3],\n",
       "        [4, 0, 1]])"
      ]
     },
     "execution_count": 8,
     "metadata": {},
     "output_type": "execute_result"
    }
   ],
   "source": [
    "a = np.matrix('1 0 1; 1 2 1; 2 1 1')\n",
    "b = np.matrix('2 1 -1; 0 -1 2; 2 -1 0')\n",
    "c = a + b\n",
    "c"
   ]
  },
  {
   "cell_type": "markdown",
   "metadata": {},
   "source": [
    "矩阵的加法满足交换律和结合律，即 **A + B = B + A, (A + B) + C = A + (B + C)**。"
   ]
  },
  {
   "cell_type": "markdown",
   "metadata": {},
   "source": [
    "### 减法\n",
    "\n",
    "矩阵的减法也和加法一样简单。对于上面给出的矩阵**A**和**B**，有：\n",
    "\n",
    "$\\mathbf{A} - \\mathbf{B} =\\begin{bmatrix}1&0&1\\\\1&2&1\\\\2&1&1\\end{bmatrix} - \\begin{bmatrix}2&1&-1\\\\0&-1&2\\\\2&-1&0\\end{bmatrix}\n",
    "= \\begin{bmatrix}{1 - 2}&{0 - 1}&{1 - (-1)}\\\\{1 - 0}&{2 - (-1)}&{1 - 2}\\\\{2 - 2}&{1 - (-1)}&{1 - 0}\\end{bmatrix} = \\begin{bmatrix}-1&-1&2\\\\1&3&-1\\\\0&2&1\\end{bmatrix}$\n",
    "\n",
    "同样的，相减的两个矩阵行数和列数也必须相同，否则无定义。\n",
    "\n",
    "Python示例如下："
   ]
  },
  {
   "cell_type": "code",
   "execution_count": 9,
   "metadata": {
    "collapsed": false
   },
   "outputs": [
    {
     "data": {
      "text/plain": [
       "matrix([[-1, -1,  2],\n",
       "        [ 1,  3, -1],\n",
       "        [ 0,  2,  1]])"
      ]
     },
     "execution_count": 9,
     "metadata": {},
     "output_type": "execute_result"
    }
   ],
   "source": [
    "c = a - b\n",
    "c"
   ]
  },
  {
   "cell_type": "markdown",
   "metadata": {},
   "source": [
    "### 乘法\n",
    "\n",
    "矩阵的乘法定义是$\\mathbf{A}_{i \\times j}$矩阵的每一行的元素分别与$\\mathbf{B}_{j \\times k}$矩阵的每一列的元素两两相乘并相加，从而得到一个新的矩阵$\\mathbf{C}_{i \\times k}$。两个矩阵能相乘的充要条件是第一个矩阵的列数与第二个矩阵的行数相等，否则无定义。例如，对于上面给出的矩阵**A**和**B**，相乘如下："
   ]
  },
  {
   "cell_type": "markdown",
   "metadata": {},
   "source": [
    "$\\mathbf{A} \\times \\mathbf{B} =\\begin{bmatrix}1&0&1\\\\1&2&1\\\\2&1&1\\end{bmatrix} \\times \\begin{bmatrix}2&1&-1\\\\0&-1&2\\\\2&-1&0\\end{bmatrix}\n",
    "= \\begin{bmatrix}{1 \\times 2} + {0 \\times 0} + {1 \\times 2}&{1 \\times 1} + {0 \\times (-1)} + {1 \\times (-1)}&{1 \\times (-1)} + {0 \\times 2} + {1 \\times 0}\\\\{1 \\times 2} + {2 \\times 0} + {1 \\times 2}&{1 \\times 1} + {2 \\times (-1)} + {1 \\times (-1)}&{1 \\times (-1)} + {2 \\times 2} + {1 \\times 0}\\\\{2 \\times 2} + {1 \\times 0} + {1 \\times 2}&{2 \\times 1} + {1 \\times (-1)} + {1 \\times (-1)}&{2 \\times (-1)} + {1 \\times 2} + {1 \\times 0}\\end{bmatrix} \n",
    "= \\begin{bmatrix}4&0&-1\\\\4&-2&3\\\\6&0&0\\end{bmatrix}$\n"
   ]
  },
  {
   "cell_type": "markdown",
   "metadata": {},
   "source": [
    "再举一个行列数不同的例子，假设有$\\mathbf{C}_{2 \\times 3} = \\begin{bmatrix}5&7&2\\\\4&3&1\\end{bmatrix}$ 和 $\\mathbf{D}_{3 \\times 1} = \\begin{bmatrix}1\\\\5\\\\3\\end{bmatrix}$，则可以得出：\n",
    "\n",
    "\n",
    "$$\\mathbf{C} \\times \\mathbf{D} = \\begin{bmatrix}5&7&2\\\\4&3&1\\end{bmatrix} \\times \\begin{bmatrix}1\\\\5\\\\3\\end{bmatrix} = \\begin{bmatrix}{5 \\times 1} + {7 \\times 5} + {2 \\times 6}\\\\{4 \\times 1} + {3 \\times 5} + {1 \\times 6}\\end{bmatrix} = \\begin{bmatrix}52\\\\25\\end{bmatrix}$$\n"
   ]
  },
  {
   "cell_type": "markdown",
   "metadata": {},
   "source": [
    "与初等代数的乘法不同的是，矩阵的乘法并不满足交换律，即 $\\mathbf{A} \\times \\mathbf{B} \\neq \\mathbf{B} \\times \\mathbf{A}$。但是满足分配律，即$(\\mathbf{A} \\times \\mathbf{B}) \\times \\mathbf{C} = \\mathbf{A} \\times (\\mathbf{B} \\times \\mathbf{C})$。\n",
    "\n",
    "另外在矩阵的世界里，有两个较为特殊的矩阵：\n",
    "\n",
    "1. 单元矩阵$\\mathbf{I}$： 它的特点是行数和列数相等，并且对角线上的值为1，其他地方的值为0。它的一个特性是与其他矩阵相乘都等于那个矩阵的本身。例如下面所示的 $ 3 \\times 3$ 的单元矩阵：\n",
    "\n",
    "$$\\mathbf{I}_{3 \\times 3} = \\begin{bmatrix}1&0&0\\\\0&1&0\\\\0&0&1\\end{bmatrix}$$\n",
    "\n",
    "2. 零矩阵：顾名思义就是全部元素都是0的矩阵。零矩阵乘以任何矩阵都是零矩阵，与任何矩阵相加都等于那个矩阵。\n",
    "\n",
    "下面我们使用Python来实现矩阵的乘法部分内容："
   ]
  },
  {
   "cell_type": "code",
   "execution_count": 10,
   "metadata": {
    "collapsed": false
   },
   "outputs": [
    {
     "data": {
      "text/plain": [
       "matrix([[1, 0, 1],\n",
       "        [1, 2, 1],\n",
       "        [2, 1, 1]])"
      ]
     },
     "execution_count": 10,
     "metadata": {},
     "output_type": "execute_result"
    }
   ],
   "source": [
    "a = np.matrix('1 0 1;1 2 1;2 1 1')\n",
    "a"
   ]
  },
  {
   "cell_type": "code",
   "execution_count": 11,
   "metadata": {
    "collapsed": false
   },
   "outputs": [
    {
     "data": {
      "text/plain": [
       "matrix([[ 2,  1, -1],\n",
       "        [ 0, -1,  2],\n",
       "        [ 2, -1,  0]])"
      ]
     },
     "execution_count": 11,
     "metadata": {},
     "output_type": "execute_result"
    }
   ],
   "source": [
    "b = np.matrix('2 1 -1;0 -1 2;2 -1 0')\n",
    "b"
   ]
  },
  {
   "cell_type": "code",
   "execution_count": 12,
   "metadata": {
    "collapsed": false
   },
   "outputs": [
    {
     "data": {
      "text/plain": [
       "matrix([[ 4,  0, -1],\n",
       "        [ 4, -2,  3],\n",
       "        [ 6,  0,  0]])"
      ]
     },
     "execution_count": 12,
     "metadata": {},
     "output_type": "execute_result"
    }
   ],
   "source": [
    "a * b"
   ]
  },
  {
   "cell_type": "code",
   "execution_count": 13,
   "metadata": {
    "collapsed": false
   },
   "outputs": [
    {
     "data": {
      "text/plain": [
       "matrix([[ 1,  1,  2],\n",
       "        [ 3,  0,  1],\n",
       "        [ 1, -2,  1]])"
      ]
     },
     "execution_count": 13,
     "metadata": {},
     "output_type": "execute_result"
    }
   ],
   "source": [
    "b * a"
   ]
  },
  {
   "cell_type": "code",
   "execution_count": 14,
   "metadata": {
    "collapsed": false
   },
   "outputs": [
    {
     "data": {
      "text/plain": [
       "matrix([[5, 7, 2],\n",
       "        [4, 3, 1]])"
      ]
     },
     "execution_count": 14,
     "metadata": {},
     "output_type": "execute_result"
    }
   ],
   "source": [
    "c = np.matrix('5 7 2;4 3 1')\n",
    "c"
   ]
  },
  {
   "cell_type": "code",
   "execution_count": 15,
   "metadata": {
    "collapsed": false
   },
   "outputs": [
    {
     "data": {
      "text/plain": [
       "matrix([[1],\n",
       "        [5],\n",
       "        [6]])"
      ]
     },
     "execution_count": 15,
     "metadata": {},
     "output_type": "execute_result"
    }
   ],
   "source": [
    "d = np.matrix('1;5;6')\n",
    "d"
   ]
  },
  {
   "cell_type": "code",
   "execution_count": 16,
   "metadata": {
    "collapsed": false
   },
   "outputs": [
    {
     "data": {
      "text/plain": [
       "matrix([[52],\n",
       "        [25]])"
      ]
     },
     "execution_count": 16,
     "metadata": {},
     "output_type": "execute_result"
    }
   ],
   "source": [
    " c * d"
   ]
  },
  {
   "cell_type": "code",
   "execution_count": 17,
   "metadata": {
    "collapsed": false
   },
   "outputs": [
    {
     "data": {
      "text/plain": [
       "matrix([[-2],\n",
       "        [12],\n",
       "        [ 6]])"
      ]
     },
     "execution_count": 17,
     "metadata": {},
     "output_type": "execute_result"
    }
   ],
   "source": [
    " a * b * d"
   ]
  },
  {
   "cell_type": "code",
   "execution_count": 18,
   "metadata": {
    "collapsed": false
   },
   "outputs": [
    {
     "data": {
      "text/plain": [
       "matrix([[-2],\n",
       "        [12],\n",
       "        [ 6]])"
      ]
     },
     "execution_count": 18,
     "metadata": {},
     "output_type": "execute_result"
    }
   ],
   "source": [
    "a * (b * d)"
   ]
  },
  {
   "cell_type": "code",
   "execution_count": 19,
   "metadata": {
    "collapsed": false
   },
   "outputs": [
    {
     "data": {
      "text/plain": [
       "array([[ 1.,  0.,  0.],\n",
       "       [ 0.,  1.,  0.],\n",
       "       [ 0.,  0.,  1.]])"
      ]
     },
     "execution_count": 19,
     "metadata": {},
     "output_type": "execute_result"
    }
   ],
   "source": [
    "I = np.eye(3)\n",
    "I"
   ]
  },
  {
   "cell_type": "code",
   "execution_count": 20,
   "metadata": {
    "collapsed": false
   },
   "outputs": [
    {
     "data": {
      "text/plain": [
       "matrix([[ 1.,  0.,  1.],\n",
       "        [ 1.,  2.,  1.],\n",
       "        [ 2.,  1.,  1.]])"
      ]
     },
     "execution_count": 20,
     "metadata": {},
     "output_type": "execute_result"
    }
   ],
   "source": [
    "a * I"
   ]
  },
  {
   "cell_type": "code",
   "execution_count": 21,
   "metadata": {
    "collapsed": false
   },
   "outputs": [
    {
     "data": {
      "text/plain": [
       "matrix([[ 1.,  0.,  1.],\n",
       "        [ 1.,  2.,  1.],\n",
       "        [ 2.,  1.,  1.]])"
      ]
     },
     "execution_count": 21,
     "metadata": {},
     "output_type": "execute_result"
    }
   ],
   "source": [
    "I * a"
   ]
  },
  {
   "cell_type": "code",
   "execution_count": 22,
   "metadata": {
    "collapsed": false
   },
   "outputs": [
    {
     "data": {
      "text/plain": [
       "matrix([[0, 0, 0],\n",
       "        [0, 0, 0],\n",
       "        [0, 0, 0]])"
      ]
     },
     "execution_count": 22,
     "metadata": {},
     "output_type": "execute_result"
    }
   ],
   "source": [
    "z = np.matrix('0 0 0;0 0 0;0 0 0')\n",
    "z"
   ]
  },
  {
   "cell_type": "code",
   "execution_count": 23,
   "metadata": {
    "collapsed": false
   },
   "outputs": [
    {
     "data": {
      "text/plain": [
       "matrix([[0, 0, 0],\n",
       "        [0, 0, 0],\n",
       "        [0, 0, 0]])"
      ]
     },
     "execution_count": 23,
     "metadata": {},
     "output_type": "execute_result"
    }
   ],
   "source": [
    "a * z"
   ]
  },
  {
   "cell_type": "code",
   "execution_count": 24,
   "metadata": {
    "collapsed": false
   },
   "outputs": [
    {
     "data": {
      "text/plain": [
       "matrix([[0, 0, 0],\n",
       "        [0, 0, 0],\n",
       "        [0, 0, 0]])"
      ]
     },
     "execution_count": 24,
     "metadata": {},
     "output_type": "execute_result"
    }
   ],
   "source": [
    "b * z"
   ]
  },
  {
   "cell_type": "code",
   "execution_count": 25,
   "metadata": {
    "collapsed": false
   },
   "outputs": [
    {
     "data": {
      "text/plain": [
       "matrix([[0, 0, 0],\n",
       "        [0, 0, 0]])"
      ]
     },
     "execution_count": 25,
     "metadata": {},
     "output_type": "execute_result"
    }
   ],
   "source": [
    "c * z"
   ]
  },
  {
   "cell_type": "code",
   "execution_count": 26,
   "metadata": {
    "collapsed": false
   },
   "outputs": [
    {
     "data": {
      "text/plain": [
       "matrix([[ 0.,  0.,  0.],\n",
       "        [ 0.,  0.,  0.],\n",
       "        [ 0.,  0.,  0.]])"
      ]
     },
     "execution_count": 26,
     "metadata": {},
     "output_type": "execute_result"
    }
   ],
   "source": [
    "I * z"
   ]
  },
  {
   "cell_type": "markdown",
   "metadata": {},
   "source": [
    "上面我们创建单元矩阵的时候，使用了**eye()**函数，是一种内置的函数，专用于构建单元矩阵，当然也可以这么写："
   ]
  },
  {
   "cell_type": "code",
   "execution_count": 27,
   "metadata": {
    "collapsed": false
   },
   "outputs": [
    {
     "data": {
      "text/plain": [
       "matrix([[1, 0, 0],\n",
       "        [0, 1, 0],\n",
       "        [0, 0, 1]])"
      ]
     },
     "execution_count": 27,
     "metadata": {},
     "output_type": "execute_result"
    }
   ],
   "source": [
    "I = np.matrix('1 0 0;0 1 0;0 0 1')\n",
    "I"
   ]
  },
  {
   "cell_type": "markdown",
   "metadata": {},
   "source": [
    "## 除（求逆）\n",
    "\n",
    "矩阵本身并没有叫做除法的操作，但是又与除法相似的运算，叫做**求逆**运算。\n",
    "\n",
    "矩阵$\\mathbf{A}$ 的逆 $\\mathbf{A}^{-1}$ 被定义为一个与$\\mathbf{A}$相乘后能得到一个单元矩阵的矩阵。即 $\\mathbf{A} \\times \\mathbf{A}^{-1} = \\mathbf{I}$。矩阵求逆的过程本身也是可逆的，一个矩阵的逆的逆也就是矩阵本身。因此$\\mathbf{A}^{-1} \\times \\mathbf{A} = \\mathbf{I}$。根据这个特点我们可以推断出能求逆的矩阵，其行数和列数也必然相同。\n",
    "\n",
    "为什么说这个求逆操作很像除等代数的除法呢？因为矩阵的逆很像数的倒数，一个数乘以它的倒数等于 1。而拿倒数与其他数相乘，就相当于被其他数除。\n",
    "\n",
    "矩阵的求逆有很多种方法。常见的有**伴随阵法**、**初等变换法**、**分块矩阵求逆法**等。\n",
    "\n",
    "> 由于所有方法全部讲完，时间过长，因此这里只对**伴随阵法**进行一个讲解，其中设计到的部分概念请自行查询资料。\n",
    "\n",
    "\n",
    "### 伴随阵法\n",
    "\n",
    "> **定理：** $n$ 阶矩阵$\\mathbf{A} = \\left[a_{ij}\\right]$\n",
    "  为可逆的充分必要条件是 $\\mathbf{A}$ 非奇异。且\n",
    "  \n",
    "> $$\\mathbf{A}^{-1} = \\frac1{|{\\mathbf{A}}|}\\begin{bmatrix}{A_{11}}&{A_{21}}&{\\cdots}&{A_{n1}}\\\\\n",
    "{A_{12}}&{A_{22}}&{\\cdots}&{A_{n2}}\\\\\n",
    "{\\vdots}&{\\vdots}&{\\ddots}&{\\vdots}\\\\\n",
    "{A_{1n}}&{A_{2n}}&{\\cdots}&{A_{nn}}\\\\\\end{bmatrix}$$\n",
    "\n",
    "> 其中${\\mathbf{A}}_{ij}$ 是 $|{\\mathbf{A}}|$ 中元素$a_{ij}$的代数余子式。"
   ]
  },
  {
   "cell_type": "markdown",
   "metadata": {},
   "source": [
    "定理中，矩阵$\\frac1{|{\\mathbf{A}}|}\\begin{bmatrix}{A_{11}}&{A_{21}}&{\\cdots}&{A_{n1}}\\\\\n",
    "{A_{12}}&{A_{22}}&{\\cdots}&{A_{n2}}\\\\\n",
    "{\\vdots}&{\\vdots}&{\\ddots}&{\\vdots}\\\\\n",
    "{A_{1n}}&{A_{2n}}&{\\cdots}&{A_{nn}}\\\\\\end{bmatrix}$ 称为矩阵$\\mathbf{A}$的伴随矩阵，记作$\\mathbf{A}^*$，于是有$\\mathbf{A}^{-1} = \\frac1{|{\\mathbf{A}}|}\\mathbf{A}^*$。\n",
    "\n",
    "对于二阶矩阵，使用伴随阵法比较简单。\n"
   ]
  },
  {
   "cell_type": "markdown",
   "metadata": {},
   "source": [
    "假定一个矩阵$\\mathbf{M} = \\begin{bmatrix}a&b\\\\c&d\\end{bmatrix}$，则$\\mathbf{M}^{-1} = \\frac1{|{\\mathbf{M}}|}\\begin{bmatrix}d&-b\\\\-c&a\\end{bmatrix}$，其中$\\frac1{|{\\mathbf{M}}|}$称为矩阵$\\mathbf{M}$的行列式：\n",
    "\n",
    "$$|{\\mathbf{M}}| = ad - bc$$\n",
    "\n",
    "， 而$\\begin{bmatrix}d&-b\\\\-c&a\\end{bmatrix}$就是矩阵$\\mathbf{M}$的伴随矩阵。"
   ]
  },
  {
   "cell_type": "markdown",
   "metadata": {},
   "source": [
    "**例子：**  矩阵$\\mathbf{A} = \\begin{bmatrix}5&7\\\\3&2\\end{bmatrix}$，那么有：\n",
    "\n",
    "$$|\\mathbf{A}| = 5 \\times 2 - 7 \\times 3 = -11$$\n",
    "\n",
    ", 则$\\mathbf{A}^{-1} = \\frac1{|{-11}|}\\begin{bmatrix}2&-7\\\\-3&5\\end{bmatrix} = \\begin{bmatrix}-\\frac2{11}&\\frac7{11}\\\\\\frac3{11}&-\\frac5{11}\\end{bmatrix}$。最后我们验证一下$\\mathbf{A} \\times \\mathbf{A}^{-1}$的值是否等于$\\mathbf{I}$，则有：\n",
    "\n",
    "$$\\mathbf{A} \\times \\mathbf{A}^{-1} = \\begin{bmatrix}5&7\\\\3&2\\end{bmatrix} \\times \\begin{bmatrix}-\\frac2{11}&\\frac7{11}\\\\\\frac3{11}&-\\frac5{11}\\end{bmatrix} = \\begin{bmatrix}5 \\times (-\\frac2{11}) + 7 \\times \\frac3{11}&5 \\times \\frac7{11} + (-7 \\times \\frac5{11})\\\\3 \\times (-\\frac2{11}) + 2 \\times \\frac3{11}&3 \\times \\frac7{11} + 2 \\times (-\\frac5{11})\\end{bmatrix} = \\begin{bmatrix}1&0\\\\0&1\\end{bmatrix}$$"
   ]
  },
  {
   "cell_type": "markdown",
   "metadata": {},
   "source": [
    "矩阵的求逆这里值演示了二维矩阵的情况，更高维的将会更加复杂，这里给出两个链接供参考：\n",
    "\n",
    "* [如何求3X3矩阵的逆矩阵](https://zh.wikihow.com/%E6%B1%823X3%E7%9F%A9%E9%98%B5%E7%9A%84%E9%80%86%E7%9F%A9%E9%98%B5)\n",
    "\n",
    "* [伴随矩阵及其与逆矩阵的关系](http://szjc.sciyard.com/book/ebookdetail.aspx?cateid=1&&sectionid=6475&&headstyle=1)"
   ]
  },
  {
   "cell_type": "markdown",
   "metadata": {},
   "source": [
    "### 奇异矩阵\n",
    "\n",
    "要注意的是，并不是所有的矩阵都是可逆的，从定义来看，只有矩阵的行列式的值不为0，矩阵就是可逆的。对于行列式为0的矩阵，称之为**奇异矩阵**。\n",
    "\n",
    "例如矩阵$\\begin{bmatrix}0&0\\\\0&1\\end{bmatrix}$，其行列式的值为 $0 \\times 1 - 0 \\times 0 = 0$，因此是不能求逆的。\n",
    "\n",
    "### Python求解矩阵的逆示例"
   ]
  },
  {
   "cell_type": "code",
   "execution_count": 28,
   "metadata": {
    "collapsed": false
   },
   "outputs": [
    {
     "data": {
      "text/plain": [
       "matrix([[1, 0, 1],\n",
       "        [1, 2, 1],\n",
       "        [2, 1, 1]])"
      ]
     },
     "execution_count": 28,
     "metadata": {},
     "output_type": "execute_result"
    }
   ],
   "source": [
    "a = np.matrix('1 0 1; 1 2 1; 2 1 1')\n",
    "a"
   ]
  },
  {
   "cell_type": "code",
   "execution_count": 29,
   "metadata": {
    "collapsed": false
   },
   "outputs": [
    {
     "data": {
      "text/plain": [
       "array([[ 1.,  0.,  0.],\n",
       "       [ 0.,  1.,  0.],\n",
       "       [ 0.,  0.,  1.]])"
      ]
     },
     "execution_count": 29,
     "metadata": {},
     "output_type": "execute_result"
    }
   ],
   "source": [
    "I = np.eye(3)\n",
    "I"
   ]
  },
  {
   "cell_type": "code",
   "execution_count": 30,
   "metadata": {
    "collapsed": false
   },
   "outputs": [
    {
     "data": {
      "text/plain": [
       "matrix([[-0.5, -0.5,  1. ],\n",
       "        [-0.5,  0.5,  0. ],\n",
       "        [ 1.5,  0.5, -1. ]])"
      ]
     },
     "execution_count": 30,
     "metadata": {},
     "output_type": "execute_result"
    }
   ],
   "source": [
    "a.I"
   ]
  },
  {
   "cell_type": "code",
   "execution_count": 31,
   "metadata": {
    "collapsed": false
   },
   "outputs": [
    {
     "data": {
      "text/plain": [
       "matrix([[ 1.,  0.,  0.],\n",
       "        [ 0.,  1.,  0.],\n",
       "        [ 0.,  0.,  1.]])"
      ]
     },
     "execution_count": 31,
     "metadata": {},
     "output_type": "execute_result"
    }
   ],
   "source": [
    "a * a.I"
   ]
  },
  {
   "cell_type": "code",
   "execution_count": 32,
   "metadata": {
    "collapsed": false
   },
   "outputs": [
    {
     "data": {
      "text/plain": [
       "matrix([[ 1.,  0.,  0.],\n",
       "        [ 0.,  1.,  0.],\n",
       "        [ 0.,  0.,  1.]])"
      ]
     },
     "execution_count": 32,
     "metadata": {},
     "output_type": "execute_result"
    }
   ],
   "source": [
    "a.I * a"
   ]
  },
  {
   "cell_type": "code",
   "execution_count": 33,
   "metadata": {
    "collapsed": false
   },
   "outputs": [
    {
     "data": {
      "text/plain": [
       "matrix([[0, 1],\n",
       "        [0, 0]])"
      ]
     },
     "execution_count": 33,
     "metadata": {},
     "output_type": "execute_result"
    }
   ],
   "source": [
    "f = np.matrix('0 1; 0 0')\n",
    "f"
   ]
  },
  {
   "cell_type": "code",
   "execution_count": 34,
   "metadata": {
    "collapsed": false
   },
   "outputs": [
    {
     "ename": "LinAlgError",
     "evalue": "Singular matrix",
     "output_type": "error",
     "traceback": [
      "\u001b[0;31m---------------------------------------------------------------------------\u001b[0m",
      "\u001b[0;31mLinAlgError\u001b[0m                               Traceback (most recent call last)",
      "\u001b[0;32m<ipython-input-34-eb9df989b60a>\u001b[0m in \u001b[0;36m<module>\u001b[0;34m()\u001b[0m\n\u001b[0;32m----> 1\u001b[0;31m \u001b[0mf\u001b[0m\u001b[0;34m.\u001b[0m\u001b[0mI\u001b[0m\u001b[0;34m\u001b[0m\u001b[0m\n\u001b[0m",
      "\u001b[0;32m/Users/Robin/anaconda/lib/python3.6/site-packages/numpy/matrixlib/defmatrix.py\u001b[0m in \u001b[0;36mgetI\u001b[0;34m(self)\u001b[0m\n\u001b[1;32m    970\u001b[0m         \u001b[0;32melse\u001b[0m\u001b[0;34m:\u001b[0m\u001b[0;34m\u001b[0m\u001b[0m\n\u001b[1;32m    971\u001b[0m             \u001b[0;32mfrom\u001b[0m \u001b[0mnumpy\u001b[0m\u001b[0;34m.\u001b[0m\u001b[0mdual\u001b[0m \u001b[0;32mimport\u001b[0m \u001b[0mpinv\u001b[0m \u001b[0;32mas\u001b[0m \u001b[0mfunc\u001b[0m\u001b[0;34m\u001b[0m\u001b[0m\n\u001b[0;32m--> 972\u001b[0;31m         \u001b[0;32mreturn\u001b[0m \u001b[0masmatrix\u001b[0m\u001b[0;34m(\u001b[0m\u001b[0mfunc\u001b[0m\u001b[0;34m(\u001b[0m\u001b[0mself\u001b[0m\u001b[0;34m)\u001b[0m\u001b[0;34m)\u001b[0m\u001b[0;34m\u001b[0m\u001b[0m\n\u001b[0m\u001b[1;32m    973\u001b[0m \u001b[0;34m\u001b[0m\u001b[0m\n\u001b[1;32m    974\u001b[0m     \u001b[0;32mdef\u001b[0m \u001b[0mgetA\u001b[0m\u001b[0;34m(\u001b[0m\u001b[0mself\u001b[0m\u001b[0;34m)\u001b[0m\u001b[0;34m:\u001b[0m\u001b[0;34m\u001b[0m\u001b[0m\n",
      "\u001b[0;32m/Users/Robin/anaconda/lib/python3.6/site-packages/numpy/linalg/linalg.py\u001b[0m in \u001b[0;36minv\u001b[0;34m(a)\u001b[0m\n\u001b[1;32m    524\u001b[0m     \u001b[0msignature\u001b[0m \u001b[0;34m=\u001b[0m \u001b[0;34m'D->D'\u001b[0m \u001b[0;32mif\u001b[0m \u001b[0misComplexType\u001b[0m\u001b[0;34m(\u001b[0m\u001b[0mt\u001b[0m\u001b[0;34m)\u001b[0m \u001b[0;32melse\u001b[0m \u001b[0;34m'd->d'\u001b[0m\u001b[0;34m\u001b[0m\u001b[0m\n\u001b[1;32m    525\u001b[0m     \u001b[0mextobj\u001b[0m \u001b[0;34m=\u001b[0m \u001b[0mget_linalg_error_extobj\u001b[0m\u001b[0;34m(\u001b[0m\u001b[0m_raise_linalgerror_singular\u001b[0m\u001b[0;34m)\u001b[0m\u001b[0;34m\u001b[0m\u001b[0m\n\u001b[0;32m--> 526\u001b[0;31m     \u001b[0mainv\u001b[0m \u001b[0;34m=\u001b[0m \u001b[0m_umath_linalg\u001b[0m\u001b[0;34m.\u001b[0m\u001b[0minv\u001b[0m\u001b[0;34m(\u001b[0m\u001b[0ma\u001b[0m\u001b[0;34m,\u001b[0m \u001b[0msignature\u001b[0m\u001b[0;34m=\u001b[0m\u001b[0msignature\u001b[0m\u001b[0;34m,\u001b[0m \u001b[0mextobj\u001b[0m\u001b[0;34m=\u001b[0m\u001b[0mextobj\u001b[0m\u001b[0;34m)\u001b[0m\u001b[0;34m\u001b[0m\u001b[0m\n\u001b[0m\u001b[1;32m    527\u001b[0m     \u001b[0;32mreturn\u001b[0m \u001b[0mwrap\u001b[0m\u001b[0;34m(\u001b[0m\u001b[0mainv\u001b[0m\u001b[0;34m.\u001b[0m\u001b[0mastype\u001b[0m\u001b[0;34m(\u001b[0m\u001b[0mresult_t\u001b[0m\u001b[0;34m,\u001b[0m \u001b[0mcopy\u001b[0m\u001b[0;34m=\u001b[0m\u001b[0;32mFalse\u001b[0m\u001b[0;34m)\u001b[0m\u001b[0;34m)\u001b[0m\u001b[0;34m\u001b[0m\u001b[0m\n\u001b[1;32m    528\u001b[0m \u001b[0;34m\u001b[0m\u001b[0m\n",
      "\u001b[0;32m/Users/Robin/anaconda/lib/python3.6/site-packages/numpy/linalg/linalg.py\u001b[0m in \u001b[0;36m_raise_linalgerror_singular\u001b[0;34m(err, flag)\u001b[0m\n\u001b[1;32m     88\u001b[0m \u001b[0;34m\u001b[0m\u001b[0m\n\u001b[1;32m     89\u001b[0m \u001b[0;32mdef\u001b[0m \u001b[0m_raise_linalgerror_singular\u001b[0m\u001b[0;34m(\u001b[0m\u001b[0merr\u001b[0m\u001b[0;34m,\u001b[0m \u001b[0mflag\u001b[0m\u001b[0;34m)\u001b[0m\u001b[0;34m:\u001b[0m\u001b[0;34m\u001b[0m\u001b[0m\n\u001b[0;32m---> 90\u001b[0;31m     \u001b[0;32mraise\u001b[0m \u001b[0mLinAlgError\u001b[0m\u001b[0;34m(\u001b[0m\u001b[0;34m\"Singular matrix\"\u001b[0m\u001b[0;34m)\u001b[0m\u001b[0;34m\u001b[0m\u001b[0m\n\u001b[0m\u001b[1;32m     91\u001b[0m \u001b[0;34m\u001b[0m\u001b[0m\n\u001b[1;32m     92\u001b[0m \u001b[0;32mdef\u001b[0m \u001b[0m_raise_linalgerror_nonposdef\u001b[0m\u001b[0;34m(\u001b[0m\u001b[0merr\u001b[0m\u001b[0;34m,\u001b[0m \u001b[0mflag\u001b[0m\u001b[0;34m)\u001b[0m\u001b[0;34m:\u001b[0m\u001b[0;34m\u001b[0m\u001b[0m\n",
      "\u001b[0;31mLinAlgError\u001b[0m: Singular matrix"
     ]
    }
   ],
   "source": [
    "f.I"
   ]
  },
  {
   "cell_type": "markdown",
   "metadata": {},
   "source": [
    "## 矩阵的应用 --- 求解方程组\n",
    "\n",
    "矩阵是一种非常通用的数据表示方法，只要能用矩阵来表示数据，就能够使用矩阵的运算解决问题，例如求解方程组。\n",
    "\n",
    "假如有一个二元方程组\n",
    "\n",
    "$$\\begin{cases}\n",
    "3x + 2y = 7\\\\\n",
    "-x + y = 1\\\\ \n",
    "\\end{cases}$$"
   ]
  },
  {
   "cell_type": "markdown",
   "metadata": {},
   "source": [
    "上面方程组可用矩阵表示为：\n",
    "\n",
    "$$\\begin{bmatrix}3&2\\\\-1&1\\end{bmatrix} \\begin{bmatrix}x\\\\y\\end{bmatrix} = \\begin{bmatrix}7\\\\1\\end{bmatrix}$$\n",
    "\n",
    "设上述公式中的$\\begin{bmatrix}3&2\\\\-1&1\\end{bmatrix}$为矩阵$\\mathbf{A}$，将等式两边分别乘以一个$\\mathbf{A}$的逆，得到：\n",
    "\n",
    "$$\\mathbf{A}^{-1} \\mathbf{A}\\begin{bmatrix}x\\\\y\\end{bmatrix} = \\mathbf{A}^{-1} \\begin{bmatrix}7\\\\1\\end{bmatrix} = \\frac1{|\\mathbf{A}|} \\begin{bmatrix}1&-2\\\\1&3\\end{bmatrix}\\begin{bmatrix}7\\\\1\\end{bmatrix} = \\frac15 \\begin{bmatrix}1&-2\\\\1&3\\end{bmatrix}\\begin{bmatrix}7\\\\1\\end{bmatrix} = \\frac15\\begin{bmatrix}5\\\\10\\end{bmatrix}$$\n",
    "\n",
    "因此：$\\begin{bmatrix}x\\\\y\\end{bmatrix} = \\begin{bmatrix}1\\\\2\\end{bmatrix}$\n",
    "\n",
    "虽然这个例子给出的方法用于二元一次矩阵求解还不如直接用初中就学到的消元法，但矩阵的好处在于对于更高维的数据，比如有成百上千个未知数，这个解法依然有效。\n",
    "\n",
    "使用Python求解方程组示例："
   ]
  },
  {
   "cell_type": "code",
   "execution_count": null,
   "metadata": {
    "collapsed": false
   },
   "outputs": [],
   "source": [
    "a = np.matrix('3 2; -1 1')\n",
    "b = np.matrix('7; 1')\n",
    "np.linalg.solve(a, b)"
   ]
  },
  {
   "cell_type": "markdown",
   "metadata": {},
   "source": [
    "## 总结\n",
    "\n",
    "关于矩阵的基本知识就介绍这里，其中有很多关于矩阵的定义和运算都没有设计到，对于对此部分感兴趣的，可以在课后需要查找资料，并进行详细学习、理解。"
   ]
  }
 ],
 "metadata": {
  "kernelspec": {
   "display_name": "Python 3",
   "language": "python",
   "name": "python3"
  },
  "language_info": {
   "codemirror_mode": {
    "name": "ipython",
    "version": 3
   },
   "file_extension": ".py",
   "mimetype": "text/x-python",
   "name": "python",
   "nbconvert_exporter": "python",
   "pygments_lexer": "ipython3",
   "version": "3.6.0"
  }
 },
 "nbformat": 4,
 "nbformat_minor": 2
}
