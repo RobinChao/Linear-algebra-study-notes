{
 "cells": [
  {
   "cell_type": "markdown",
   "metadata": {},
   "source": [
    "# 第02集  矩阵消元\n",
    "\n",
    "\n",
    "## 1. TL;DR\n",
    "\n",
    "在线性代数中，解线性方程组是核心的问题之一。一个包含 $n$ 个未知数 $x_1, x_2, \\cdots, x_n$的线性方程式：\n",
    "\n",
    "$$a_1x_1 + a_2x_2 + \\cdots + a_nx_n = b$$\n",
    "\n",
    "其中系数 $a_1, a_2, \\cdots, a_n$ 与 $b$ 是给定的实数或者复数。若线性方程组有 $m$ 个方程式，则可表示为阵列的形式：\n",
    "\n",
    "$$\\begin{cases}a_{11}x_1+ a_{12}x_2 + \\cdots + a_{1n}x_n = b_1\\\\a_{21}x_1+ a_{22}x_2 + \\cdots + a_{2n}x_n = b_2\\\\{\\vdots}\\\\a_{m1}x_1+ a_{m2}x_2 + \\cdots + a_{mn}x_n = b_m\\end{cases}$$\n",
    "\n",
    "线性方程组的解 $x_1, x_2, \\cdots, x_n$ 必须满足上面 $m$ 个方程式，也就是说方程组的解释 $m$ 个方程式各自解的交集。\n",
    "\n",
    "上节中我们提到的线性方程组的系统化解法最早出现在公元前100年的中国古籍《九章算术》，随后传入日本和欧洲。今天，我们称为高斯消元法或者高斯消去法，均是以纪念德国数学家高斯（Carl Friderich Gauss）的广泛使用，从而推广了这个方法。\n",
    "\n",
    "![](resource/Bendixen_-_Carl_Friedrich_Gauß,_1828.jpg)"
   ]
  },
  {
   "cell_type": "markdown",
   "metadata": {},
   "source": [
    "## 2. 使用 消元法 求解方程\n",
    "\n",
    "### 2.1 消元法介绍\n",
    "\n",
    "能够使用消元法分为下面两种情况：\n",
    "\n",
    "* 成功：矩阵的主元不包含 0，也就是说，矩阵是可逆矩阵\n",
    "* 失败：矩阵的主元有至少一个 0，也就是说，矩阵是不可逆矩阵。\n",
    "\n",
    "对于一些`好`的系数矩阵（可逆矩阵）$A$ 来说，我们可以使用消元法来求解方程 $Ax = b$，例如下面方程组：\n",
    "\n",
    "$$\\begin{cases}x&+2y&+z&=2\\\\3x&+8y&+z&=12\\\\&4y&+z&=2\\end{cases}$$\n",
    "\n",
    "求此方程组之前，我们先将其改写为 $Ax = b$ 的矩阵形式。如下：\n",
    "\n",
    "$$\\begin{bmatrix}1&2&1\\\\3&8&1\\\\0&4&1\\end{bmatrix}\\begin{bmatrix}x\\\\y\\\\z\\end{bmatrix}=\\begin{bmatrix}2\\\\12\\\\2\\end{bmatrix}$$"
   ]
  },
  {
   "cell_type": "markdown",
   "metadata": {},
   "source": [
    "所谓矩阵的消元法，其实与我们在初等数学中学习的解二元一次方程组的消元法同理，都是通过不同行的方程进行消元运算来简化方程，最后得到简化的方程组。只不过这里的 **系数** 被单独抽出来进行运算，寻找一种 **矩阵** 情况下的普遍规律而已。"
   ]
  },
  {
   "cell_type": "markdown",
   "metadata": {},
   "source": [
    "上述例子中，消元法针对的对象是系数矩阵 $A=\\begin{bmatrix}\\underline{1}&2&1\\\\3&8&1\\\\0&4&1\\end{bmatrix}$。首先注意，左上角带下划线的 *1* 是消元法的关键，称之为**主元（pivot）**，接下来通过我们熟悉的 **将一行乘倍数加到另一行**的行化简方法将第一列中除了主元之外的元素全部变为 0：\n",
    "\n",
    "$$\\begin{bmatrix}\\underline{1}&2&1\\\\3&8&1\\\\0&4&1\\end{bmatrix}\\xrightarrow{row_2-3row_1}\\begin{bmatrix}\\underline{1}&2&1\\\\0&2&-2\\\\0&4&1\\end{bmatrix}$$\n",
    "\n",
    "> 这里我们先不管 $b$ 向量，等做完 $A$ 的消元可以再做      $b$ 的消元。"
   ]
  },
  {
   "cell_type": "markdown",
   "metadata": {},
   "source": [
    "第一步完成后，我们在第一列中只留下了主元1，我们可以认为第一行与第一列已经达到预期，接下来我们看去掉第一行第一列之后的右下角剩下的部分：$\\begin{bmatrix}\\underline{2}&-2\\\\4&1\\end{bmatrix}$，同样，我们将左上角带有下划线的 2 视为主元，消元这一列，使得此列上除主元 2 之外皆为 0：\n",
    "\n",
    "$$\\begin{bmatrix}\\underline{1}&2&1\\\\0&\\underline{2}&-2\\\\0&4&1\\end{bmatrix}\\xrightarrow{row_3-2row_2}\\begin{bmatrix}\\underline{1}&2&1\\\\0&\\underline{2}&-2\\\\0&0&\\underline{5}\\end{bmatrix}$$\n",
    "\n",
    "这个时候，第三行只剩下元素 5，我们直接视其为主元即可。这样我们就得到：\n",
    "\n",
    "$$\\begin{bmatrix}\\underline{1}&2&1\\\\3&8&1\\\\0&4&1\\end{bmatrix}\\xrightarrow{row_2-3row_1}\\begin{bmatrix}\\underline{1}&2&1\\\\0&2&-2\\\\0&4&1\\end{bmatrix}\\xrightarrow{row_3-2row_2}\\begin{bmatrix}\\underline{1}&2&1\\\\0&\\underline{2}&-2\\\\0&0&\\underline{5}\\end{bmatrix}$$\n",
    "\n",
    "由于 $A$ 矩阵是可逆的，经过消元处理得到的上三角矩阵 $U=\\begin{bmatrix}\\underline{1}&2&1\\\\0&\\underline{2}&-2\\\\0&0&\\underline{5}\\end{bmatrix}$ 中有三个主元，到此，消元的部分就结束了，最终得到的矩阵 $U$ 即为我们想要化简的形式。"
   ]
  },
  {
   "cell_type": "code",
   "execution_count": 9,
   "metadata": {
    "collapsed": true
   },
   "outputs": [
    {
     "name": "stdout",
     "output_type": "stream",
     "text": [
      "max_v = 3.000000\n",
      "max_i = 1.000000 , j = 0.000000\n",
      "SWAP*******\n",
      "[[3.0, 8.0, 1.0], [1.0, 2.0, 1.0], [0.0, 4.0, 1.0]]\n",
      "[12.0, 2.0, 2.0]\n",
      "CAL_a******\n",
      "[[3.0, 8.0, 1.0], [0.0, -0.6666666666666665, 0.6666666666666667], [0.0, 4.0, 1.0]]\n",
      "[12.0, -2.0, 2.0]\n",
      "max_v = 4.000000\n",
      "max_i = 2.000000 , j = 1.000000\n",
      "SWAP*******\n",
      "[[3.0, 8.0, 1.0], [0.0, 4.0, 1.0], [0.0, -0.6666666666666665, 0.6666666666666667]]\n",
      "[12.0, 2.0, -2.0]\n",
      "CAL_a******\n",
      "[[3.0, 8.0, 1.0], [0.0, 4.0, 1.0], [0.0, 0.0, 0.8333333333333334]]\n",
      "[12.0, 2.0, -1.6666666666666667]\n",
      "************************\n",
      "[[3.0, 8.0, 1.0], [0.0, 4.0, 1.0], [0.0, 0.0, 0.8333333333333334]]\n",
      "[12.0, 2.0, -1.6666666666666667]\n",
      "xn = -2.000000\n"
     ]
    }
   ],
   "source": [
    "class ClassGauss(object):  \n",
    "  \n",
    "    def __init__(self, a, b):     \n",
    "        super(ClassGauss, self).__init__()  \n",
    "        self.a = a  \n",
    "        self.b = b  \n",
    "        self.n = len(self.b)  \n",
    "  \n",
    "    def max(self, max_i, max_v, i, j):# get max  \n",
    "        a = self.a  \n",
    "        abs_of_a = abs(a[i][j])  \n",
    "  \n",
    "        if max_v < abs_of_a:  \n",
    "            max_v = abs_of_a  \n",
    "            max_i = i  \n",
    "        return max_i, max_v  \n",
    "  \n",
    "    def swap(self, ai, j):# change line  \n",
    "        a = self.a  \n",
    "        b = self.b  \n",
    "        n = self.n  \n",
    "        for i in range(0, n):  \n",
    "            temp = a[ai][i]  \n",
    "            a[ai][i] = a[j][i]  \n",
    "            a[j][i] = temp  \n",
    "  \n",
    "            tempb = b[ai]  \n",
    "            b[ai] = b[j]  \n",
    "            b[j] = tempb  \n",
    "  \n",
    "    def gauss(self):  \n",
    "        n = self.n  \n",
    "        max_i = 0 # line num of max value  \n",
    "        max_v = m = self.a[0][0]  \n",
    "        for j in range(0, n-1):   \n",
    "            for i in range(j, n):   \n",
    "                max_i, max_v = self.max(max_i, max_v, i, j)  \n",
    "            if max_v == 0:  \n",
    "                raise ValueError('no unique solution')  \n",
    "            if debug:  \n",
    "                print('max_v = %f' % max_v)  \n",
    "                print('max_i = %f , j = %f' % (max_i, j))  \n",
    "            if max_i != j:  \n",
    "                # jiaohuan ai hang he ajhang  \n",
    "                self.swap(max_i, j)  \n",
    "            if debug:  \n",
    "                print('SWAP*******')  \n",
    "                print(self.a)  \n",
    "                print(self.b)  \n",
    "            for p in range(j+1, n):  \n",
    "                l =  a[p][j] / a[j][j]  \n",
    "                # print('l = %f' % (l))  \n",
    "                b[p] -= l * b[j]  \n",
    "                for q in range(j, n):  \n",
    "                    a[p][q] -= l * a[j][q]  \n",
    "            if debug:         \n",
    "                print('CAL_a******')  \n",
    "                print(self.a)  \n",
    "                print(self.b)  \n",
    "            max_v = m  \n",
    "        if debug:  \n",
    "            print(\"************************\")  \n",
    "            print(self.a)  \n",
    "            print(self.b)  \n",
    "        self.calculate()  \n",
    "  \n",
    "    def calculate(self):  \n",
    "        n = self.n - 1  \n",
    "        xn = b[n] / a[n][n]  \n",
    "        print('xn = %f'% xn)  \n",
    "\n",
    "        \n",
    "a = [[1., 2., 1.], \n",
    "     [3., 8., 1.],\n",
    "     [0., 4., 1.]]  \n",
    "b = [2., 12., 2.]  \n",
    "debug = True   \n",
    "g = ClassGauss(a,b)  \n",
    "g.gauss()     "
   ]
  },
  {
   "cell_type": "code",
   "execution_count": 11,
   "metadata": {
    "collapsed": false
   },
   "outputs": [
    {
     "name": "stdout",
     "output_type": "stream",
     "text": [
      "[ 2.  1. -2.]\n"
     ]
    }
   ],
   "source": [
    "import numpy as np\n",
    "from scipy.linalg import solve\n",
    "a = np.array([[1, 2, 1], [3, 8, 1], [0, 4, 1]])\n",
    "b = np.array([2, 12, 2])\n",
    "x = solve(a, b)\n",
    "print(x)"
   ]
  },
  {
   "cell_type": "markdown",
   "metadata": {},
   "source": [
    "> 注：\n",
    "\n",
    "> 并不是所有的 $A$ 矩阵都可消元处理，需要注意的是在我们消元过程中，如果主元位置（左上角）为 **0**，那么意味着这个主元不可取，需要进行 **换行** 处理：\n",
    "\n",
    "> 首先，看主元为 0 的下一行对应位置是不是 0，如果不是，就将这两行位置互换，将非 0 数视为主元。如果是，就再看下一行，以此类推。拖起下面每一行都为 0，那就意味着这个矩阵不可逆，消元法求出的解是不唯一的。"
   ]
  },
  {
   "cell_type": "markdown",
   "metadata": {},
   "source": [
    "### 2.2 回带求解\n",
    "\n",
    "其实在实际操作中，回带求解和消元法是同时进行的，这里为了讲解进行了拆分，下面我们首先看看 **什么是增广矩阵**。\n",
    "\n",
    "我们依然使用上面的例子：\n",
    "$\\begin{bmatrix}1&2&1\\\\3&8&1\\\\0&4&1\\end{bmatrix}\\begin{bmatrix}x\\\\y\\\\z\\end{bmatrix}=\\begin{bmatrix}2\\\\12\\\\2\\end{bmatrix}$，接下来先给出这个矩阵形式的 **增广矩阵** 形式：\n",
    "$\\left[\\begin{array}{ccc|c}1&2&1&2\\\\3&8&1&12\\\\0&4&1&2\\end{array}\\right]$，可以直观的看到， **增广矩阵** 就是将 **系数矩阵$A$**和向量 $b$ 拼接而成的一个矩阵。\n",
    "\n",
    "然后和我们之前对**系数矩阵$A$**进行消元相同，只不过这次我们要带上 **向量$b$**：\n",
    "\n",
    "$$\\left[\\begin{array}{c|c}A&b\\end{array}\\right]=\\left[\\begin{array}{ccc|c}1&2&1&2\\\\3&8&1&12\\\\0&4&1&2\\end{array}\\right]\\to\\left[\\begin{array}{ccc|c}1&2&1&2\\\\0&2&-2&6\\\\0&4&1&2\\end{array}\\right]\\to\\left[\\begin{array}{ccc|c}1&2&1&2\\\\0&2&-2&6\\\\0&0&5&-10\\end{array}\\right]$$\n",
    "\n",
    "完成消元之后，我们将消元后的三角矩阵 $U$ 带回方程 $Ax = b$，则原始方程组就变为：\n",
    "\n",
    "$$\\begin{cases}x&+2y&+z&=2\\\\&2y&-2z&=6\\\\&&5z&=-10\\end{cases}$$\n",
    "\n",
    "可以看到，这个方程组非常好解了，最终求出这个方程组的解为： $x = 2, y = 1, z = -2$。"
   ]
  },
  {
   "cell_type": "markdown",
   "metadata": {},
   "source": [
    "## 3.  消元矩阵\n",
    "\n",
    "### 3.1 行向量与矩阵乘法\n",
    "\n"
   ]
  },
  {
   "cell_type": "code",
   "execution_count": null,
   "metadata": {
    "collapsed": true
   },
   "outputs": [],
   "source": []
  }
 ],
 "metadata": {
  "kernelspec": {
   "display_name": "Python 3",
   "language": "python",
   "name": "python3"
  },
  "language_info": {
   "codemirror_mode": {
    "name": "ipython",
    "version": 3
   },
   "file_extension": ".py",
   "mimetype": "text/x-python",
   "name": "python",
   "nbconvert_exporter": "python",
   "pygments_lexer": "ipython3",
   "version": "3.6.0"
  }
 },
 "nbformat": 4,
 "nbformat_minor": 2
}
