{
 "cells": [
  {
   "cell_type": "markdown",
   "metadata": {},
   "source": [
    "# 04  $A$的$LU$分解\n",
    "\n",
    "\n",
    "## 1. 矩阵转置与逆的性质\n",
    "\n",
    "### 1.1 $AB$的逆矩阵\n",
    "\n",
    "$$\\begin{aligned}\n",
    "A \\cdot A^{-1} = I & = A^{-1} \\cdot A\\\\\n",
    "(AB) \\cdot (B^{-1}A^{-1}) & = I\\\\\n",
    "\\textrm{则} AB \\textrm{的逆矩阵为} & B^{-1}A^{-1}\n",
    "\\end{aligned}$$\n",
    "\n",
    "### 1.2 $A^T$的逆矩阵\n",
    "\n",
    "$$\\begin{aligned}\n",
    "(A \\cdot A^{-1})^{T} & = I^{T}\\\\\n",
    "(A^{-1})^{T} \\cdot A^{T} & = I\\\\\n",
    "\\textrm{则} A^{T} \\textrm{的逆矩阵为} & (A^{-1})^{T}\n",
    "\\end{aligned}$$"
   ]
  },
  {
   "cell_type": "markdown",
   "metadata": {},
   "source": [
    "## 2. LU分解\n",
    "\n",
    "- $A$ 源矩阵\n",
    "- $L$ 下三角矩阵(lower triangular)\n",
    "- $U$ 上三角矩阵(upper triangular)\n",
    "- $A = LU$，任意非奇异矩阵能写成一个下三角矩阵和一个上三角矩阵的乘积，因为可以通过一系列下三角矩阵将$A$变为一个上三角矩阵(阶梯型)，所以可以将一系列下三角矩阵乘起来成为一个下三角矩阵。LU分解的意义如下\n",
    "\n",
    "$\\qquad E_{32}\\qquad\\qquad E_{21}$\n",
    "\n",
    "$\\begin{bmatrix}1&0&0\\\\0&1&0\\\\0&-5&1\\end{bmatrix}\\begin{bmatrix}1&0&0\\\\-2&1&0\\\\0&0&1\\end{bmatrix}=\\begin{bmatrix}1&0&0\\\\-2&1&0\\\\10&-5&1\\end{bmatrix}=E$\n",
    "\n",
    "$\\qquad E_{21}^{-1}\\qquad\\quad E_{32}^{-1}$\n",
    "\n",
    "$\\begin{bmatrix}1&0&0\\\\2&1&0\\\\0&0&1\\end{bmatrix}\\begin{bmatrix}1&0&0\\\\0&1&0\\\\0&5&1\\end{bmatrix}=\\begin{bmatrix}1&0&0\\\\2&1&0\\\\0&5&1\\end{bmatrix}=L$\n",
    "\n",
    "通过交换$E$的顺序，我们避免了”$10$“的出现，使得$L$为所有$E$的逆的直接合并，matlab就使用这样的方法"
   ]
  },
  {
   "cell_type": "markdown",
   "metadata": {},
   "source": [
    "## 3. 计算量\n",
    "\n",
    "\n",
    "$\\sum_{i=1}^n{(i-1)^2} = O(n^3)$"
   ]
  },
  {
   "cell_type": "markdown",
   "metadata": {},
   "source": [
    "## 4. 置换矩阵(Permutation Matrix)\n",
    "\n",
    "- 每一行每一列有且仅有一个$1$\n",
    "- n阶方阵共有$n!$个置换矩阵"
   ]
  }
 ],
 "metadata": {
  "kernelspec": {
   "display_name": "Python 3",
   "language": "python",
   "name": "python3"
  },
  "language_info": {
   "codemirror_mode": {
    "name": "ipython",
    "version": 3
   },
   "file_extension": ".py",
   "mimetype": "text/x-python",
   "name": "python",
   "nbconvert_exporter": "python",
   "pygments_lexer": "ipython3",
   "version": "3.6.0"
  }
 },
 "nbformat": 4,
 "nbformat_minor": 2
}
